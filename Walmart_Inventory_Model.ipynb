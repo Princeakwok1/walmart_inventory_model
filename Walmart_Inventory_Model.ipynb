{
 "cells": [
  {
   "cell_type": "markdown",
   "id": "3fa418b1",
   "metadata": {},
   "source": [
    "# Supervised Machine Learning Model: Walmart Inventory Forecasting"
   ]
  },
  {
   "cell_type": "markdown",
   "id": "928ac8ba",
   "metadata": {},
   "source": [
    "## Step 1: Data Collection"
   ]
  },
  {
   "cell_type": "code",
   "execution_count": null,
   "id": "02b0711b",
   "metadata": {},
   "outputs": [],
   "source": [
    "\n",
    "import pandas as pd\n",
    "import numpy as np\n",
    "\n",
    "np.random.seed(42)\n",
    "\n",
    "data = {\n",
    "    'Product_ID': np.random.randint(1000, 1100, 300),\n",
    "    'Category': np.random.choice(['Electronics', 'Grocery', 'Clothing'], 300),\n",
    "    'Store_Location': np.random.choice(['North', 'South', 'East', 'West'], 300),\n",
    "    'Week_Number': np.random.randint(1, 53, 300),\n",
    "    'Units_In_Stock': np.random.randint(50, 500, 300),\n",
    "    'Units_Sold': np.random.randint(10, 200, 300),\n",
    "    'Promotion': np.random.choice([0, 1], 300),\n",
    "    'Weather_Index': np.random.uniform(0, 10, 300)\n",
    "}\n",
    "\n",
    "df = pd.DataFrame(data)\n",
    "df['Forecasted_Demand'] = df['Units_Sold'] + df['Promotion'] * 10 - df['Weather_Index'] * 2\n",
    "df.head()\n"
   ]
  },
  {
   "cell_type": "markdown",
   "id": "0c81a1dc",
   "metadata": {},
   "source": [
    "## Step 2: Data Preprocessing"
   ]
  },
  {
   "cell_type": "code",
   "execution_count": null,
   "id": "804269f2",
   "metadata": {},
   "outputs": [],
   "source": [
    "\n",
    "df = pd.get_dummies(df, columns=['Category', 'Store_Location'], drop_first=True)\n",
    "\n",
    "from sklearn.model_selection import train_test_split\n",
    "X = df.drop('Forecasted_Demand', axis=1)\n",
    "y = df['Forecasted_Demand']\n",
    "\n",
    "X_train, X_test, y_train, y_test = train_test_split(X, y, test_size=0.2, random_state=42)\n"
   ]
  },
  {
   "cell_type": "markdown",
   "id": "04e4f116",
   "metadata": {},
   "source": [
    "## Step 3: Model Selection and Training"
   ]
  },
  {
   "cell_type": "code",
   "execution_count": null,
   "id": "2c2a6444",
   "metadata": {},
   "outputs": [],
   "source": [
    "\n",
    "from sklearn.linear_model import LinearRegression\n",
    "\n",
    "model = LinearRegression()\n",
    "model.fit(X_train, y_train)\n"
   ]
  },
  {
   "cell_type": "markdown",
   "id": "8e0cae13",
   "metadata": {},
   "source": [
    "## Step 4: Model Evaluation"
   ]
  },
  {
   "cell_type": "code",
   "execution_count": null,
   "id": "9e255e87",
   "metadata": {},
   "outputs": [],
   "source": [
    "\n",
    "from sklearn.metrics import mean_absolute_error, mean_squared_error, r2_score\n",
    "\n",
    "y_pred = model.predict(X_test)\n",
    "\n",
    "mae = mean_absolute_error(y_test, y_pred)\n",
    "rmse = np.sqrt(mean_squared_error(y_test, y_pred))\n",
    "r2 = r2_score(y_test, y_pred)\n",
    "\n",
    "print(f\"Initial Model - MAE: {mae:.2f}, RMSE: {rmse:.2f}, R²: {r2:.2f}\")\n"
   ]
  },
  {
   "cell_type": "markdown",
   "id": "1716d401",
   "metadata": {},
   "source": [
    "## Step 5: Model Optimization"
   ]
  },
  {
   "cell_type": "code",
   "execution_count": null,
   "id": "99d7489b",
   "metadata": {},
   "outputs": [],
   "source": [
    "\n",
    "from sklearn.linear_model import Ridge\n",
    "from sklearn.model_selection import GridSearchCV\n",
    "\n",
    "ridge = Ridge()\n",
    "param_grid = {'alpha': [0.1, 1, 10, 100]}\n",
    "grid = GridSearchCV(ridge, param_grid, cv=5)\n",
    "grid.fit(X_train, y_train)\n",
    "\n",
    "best_model = grid.best_estimator_\n",
    "y_pred_optimized = best_model.predict(X_test)\n",
    "r2_optimized = r2_score(y_test, y_pred_optimized)\n",
    "\n",
    "print(f\"Optimized Model - R²: {r2_optimized:.2f}\")\n"
   ]
  }
 ],
 "metadata": {},
 "nbformat": 4,
 "nbformat_minor": 5
}